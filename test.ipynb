{
 "cells": [
  {
   "cell_type": "code",
   "execution_count": 2,
   "metadata": {},
   "outputs": [],
   "source": [
    "import gymnasium as gym\n",
    "from stable_baselines3 import PPO\n",
    "from stable_baselines3.common.env_util import make_vec_env\n",
    "from stable_baselines3.common.evaluation import evaluate_policy\n",
    "from stable_baselines3.common.monitor import Monitor"
   ]
  },
  {
   "cell_type": "code",
   "execution_count": 3,
   "metadata": {},
   "outputs": [
    {
     "name": "stdout",
     "output_type": "stream",
     "text": [
      "== CURRENT SYSTEM INFO ==\n",
      "- OS: Windows-10-10.0.22621-SP0 10.0.22621\n",
      "- Python: 3.9.7\n",
      "- Stable-Baselines3: 2.1.0\n",
      "- PyTorch: 2.0.1+cpu\n",
      "- GPU Enabled: False\n",
      "- Numpy: 1.23.4\n",
      "- Cloudpickle: 2.2.1\n",
      "- Gymnasium: 0.29.1\n",
      "- OpenAI Gym: 0.7.4\n",
      "\n",
      "== SAVED MODEL SYSTEM INFO ==\n",
      "- OS: Windows-10-10.0.22621-SP0 10.0.22621\n",
      "- Python: 3.9.7\n",
      "- Stable-Baselines3: 2.1.0\n",
      "- PyTorch: 2.0.1+cpu\n",
      "- GPU Enabled: False\n",
      "- Numpy: 1.23.4\n",
      "- Cloudpickle: 2.2.1\n",
      "- Gymnasium: 0.29.1\n",
      "- OpenAI Gym: 0.7.4\n",
      "\n"
     ]
    }
   ],
   "source": [
    "model = PPO.load(\"ppo-LunarLander-v2\", print_system_info=True)"
   ]
  },
  {
   "cell_type": "code",
   "execution_count": 4,
   "metadata": {},
   "outputs": [
    {
     "name": "stdout",
     "output_type": "stream",
     "text": [
      "mean_reward=217.05 +/- 17.312354693089503\n"
     ]
    }
   ],
   "source": [
    "eval_env = Monitor(gym.make(\"LunarLander-v2\", render_mode=\"human\"))\n",
    "mean_reward, std_reward = evaluate_policy(model, eval_env, n_eval_episodes=10, deterministic=True)\n",
    "print(f\"mean_reward={mean_reward:.2f} +/- {std_reward}\")\n",
    "eval_env.close()"
   ]
  }
 ],
 "metadata": {
  "kernelspec": {
   "display_name": "Python 3",
   "language": "python",
   "name": "python3"
  },
  "language_info": {
   "codemirror_mode": {
    "name": "ipython",
    "version": 3
   },
   "file_extension": ".py",
   "mimetype": "text/x-python",
   "name": "python",
   "nbconvert_exporter": "python",
   "pygments_lexer": "ipython3",
   "version": "3.9.7"
  },
  "orig_nbformat": 4
 },
 "nbformat": 4,
 "nbformat_minor": 2
}
